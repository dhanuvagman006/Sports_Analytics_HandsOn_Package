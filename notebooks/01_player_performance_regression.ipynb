{
 "cells": [
  {
   "cell_type": "markdown",
   "id": "547925a3",
   "metadata": {},
   "source": [
    "# Project 1: Player Performance (T20 Cricket) – Regression\n",
    "Goal: Predict **runs_scored** using recent form & context features.\n",
    "\n",
    "### Tasks\n",
    "1. Load data and explore distributions.\n",
    "2. Encode categoricals; train/test split.\n",
    "3. Baseline **LinearRegression**; improve with **RandomForestRegressor**.\n",
    "4. Evaluate with **MAE, RMSE, R²**; plot feature importances.\n",
    "5. Stretch: cross-validation, SHAP (optional), per-player error analysis."
   ]
  },
  {
   "cell_type": "code",
   "execution_count": null,
   "id": "43a9d7b2",
   "metadata": {},
   "outputs": [],
   "source": [
    "import pandas as pd, numpy as np\n",
    "from sklearn.model_selection import train_test_split\n",
    "from sklearn.compose import ColumnTransformer\n",
    "from sklearn.preprocessing import OneHotEncoder\n",
    "from sklearn.pipeline import Pipeline\n",
    "from sklearn.metrics import mean_absolute_error, mean_squared_error, r2_score\n",
    "from sklearn.linear_model import LinearRegression\n",
    "from sklearn.ensemble import RandomForestRegressor\n",
    "import matplotlib.pyplot as plt\n",
    "\n",
    "df = pd.read_csv('../datasets/cricket_t20_player_performance.csv')\n",
    "df.head()"
   ]
  },
  {
   "cell_type": "code",
   "execution_count": null,
   "id": "e7b6bdbe",
   "metadata": {},
   "outputs": [],
   "source": [
    "# Train-test split and pipeline\n",
    "X = df.drop(columns=['runs_scored','match_id'])\n",
    "y = df['runs_scored']\n",
    "num_cols = X.select_dtypes(include=[np.number]).columns.tolist()\n",
    "cat_cols = X.select_dtypes(exclude=[np.number]).columns.tolist()\n",
    "pre = ColumnTransformer([\n",
    "    ('cat', OneHotEncoder(handle_unknown='ignore'), cat_cols)\n",
    "], remainder='passthrough')\n",
    "\n",
    "X_tr, X_te, y_tr, y_te = train_test_split(X, y, test_size=0.2, random_state=42)\n",
    "\n",
    "lin = Pipeline([('pre', pre), ('model', LinearRegression())])\n",
    "lin.fit(X_tr, y_tr)\n",
    "pred_lin = lin.predict(X_te)\n",
    "mae = mean_absolute_error(y_te, pred_lin)\n",
    "rmse = mean_squared_error(y_te, pred_lin, squared=False)\n",
    "r2 = r2_score(y_te, pred_lin)\n",
    "print({'MAE':mae, 'RMSE':rmse, 'R2':r2})"
   ]
  },
  {
   "cell_type": "code",
   "execution_count": null,
   "id": "daa7bd4b",
   "metadata": {},
   "outputs": [],
   "source": [
    "# Random Forest Regressor\n",
    "rf = Pipeline([('pre', pre), ('model', RandomForestRegressor(n_estimators=300, random_state=42))])\n",
    "rf.fit(X_tr, y_tr)\n",
    "pred_rf = rf.predict(X_te)\n",
    "mae = mean_absolute_error(y_te, pred_rf)\n",
    "rmse = mean_squared_error(y_te, pred_rf, squared=False)\n",
    "r2 = r2_score(y_te, pred_rf)\n",
    "print({'MAE':mae, 'RMSE':rmse, 'R2':r2})\n",
    "\n",
    "# Feature importances (approx via permutation on processed features is complex).\n",
    "print('Trained RF model. You can use permutation_importance for insights.')"
   ]
  },
  {
   "cell_type": "code",
   "execution_count": null,
   "id": "08db3c4f",
   "metadata": {},
   "outputs": [],
   "source": [
    "# Per-player error analysis\n",
    "res = pd.DataFrame({'y_true': y_te, 'y_pred': pred_rf})\n",
    "subset = df.loc[y_te.index, ['player']].reset_index(drop=True)\n",
    "res = pd.concat([subset, res], axis=1)\n",
    "res['abs_err'] = (res['y_true'] - res['y_pred']).abs()\n",
    "print(res.groupby('player')['abs_err'].mean().sort_values(ascending=False).head(10))"
   ]
  }
 ],
 "metadata": {},
 "nbformat": 4,
 "nbformat_minor": 5
}
