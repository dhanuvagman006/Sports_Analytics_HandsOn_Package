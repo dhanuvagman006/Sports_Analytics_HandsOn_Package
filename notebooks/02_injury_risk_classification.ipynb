{
 "cells": [
  {
   "cell_type": "markdown",
   "id": "05997ccc",
   "metadata": {},
   "source": [
    "# Project 2: Injury Risk – Classification\n",
    "Predict **injury_next_7d** from GPS load & wellness metrics.\n",
    "\n",
    "### Tasks\n",
    "1. Exploratory analysis & class balance.\n",
    "2. Train **LogisticRegression** and **XGBoost/RandomForest** (use RF here).\n",
    "3. Evaluate with **ROC-AUC, PR-AUC, F1**; calibration curve.\n",
    "4. Business framing: choose threshold to cap weekly medical costs."
   ]
  },
  {
   "cell_type": "code",
   "execution_count": null,
   "id": "f0531c71",
   "metadata": {},
   "outputs": [],
   "source": [
    "import pandas as pd, numpy as np\n",
    "from sklearn.model_selection import train_test_split\n",
    "from sklearn.preprocessing import OneHotEncoder\n",
    "from sklearn.compose import ColumnTransformer\n",
    "from sklearn.pipeline import Pipeline\n",
    "from sklearn.metrics import roc_auc_score, average_precision_score, classification_report\n",
    "from sklearn.linear_model import LogisticRegression\n",
    "from sklearn.ensemble import RandomForestClassifier\n",
    "import matplotlib.pyplot as plt\n",
    "\n",
    "df = pd.read_csv('../datasets/gps_load_injury_risk.csv')\n",
    "X = df.drop(columns=['injury_next_7d'])\n",
    "y = df['injury_next_7d']\n",
    "num_cols = X.select_dtypes(include=[np.number]).columns.tolist()\n",
    "cat_cols = X.select_dtypes(exclude=[np.number]).columns.tolist()\n",
    "pre = ColumnTransformer([('cat', OneHotEncoder(handle_unknown='ignore'), cat_cols)], remainder='passthrough')\n",
    "X_tr, X_te, y_tr, y_te = train_test_split(X, y, test_size=0.2, random_state=42, stratify=y)\n",
    "\n",
    "logit = Pipeline([('pre', pre), ('model', LogisticRegression(max_iter=200))])\n",
    "logit.fit(X_tr, y_tr)\n",
    "proba_l = logit.predict_proba(X_te)[:,1]\n",
    "print({'ROC_AUC': roc_auc_score(y_te, proba_l), 'PR_AUC': average_precision_score(y_te, proba_l)})\n",
    "\n",
    "rf = Pipeline([('pre', pre), ('model', RandomForestClassifier(n_estimators=400, random_state=42))])\n",
    "rf.fit(X_tr, y_tr)\n",
    "proba = rf.predict_proba(X_te)[:,1]\n",
    "print({'ROC_AUC': roc_auc_score(y_te, proba), 'PR_AUC': average_precision_score(y_te, proba)})\n",
    "\n",
    "pred = (proba >= 0.35).astype(int)\n",
    "print(classification_report(y_te, pred))"
   ]
  },
  {
   "cell_type": "code",
   "execution_count": null,
   "id": "ef27a7fc",
   "metadata": {},
   "outputs": [],
   "source": [
    "# Simple calibration curve\n",
    "bins = np.linspace(0,1,11)\n",
    "df_cal = pd.DataFrame({'p': proba, 'y': y_te.values})\n",
    "df_cal['bin'] = pd.cut(df_cal['p'], bins)\n",
    "cal = df_cal.groupby('bin').agg(p_mean=('p','mean'), y_rate=('y','mean'))\n",
    "cal.plot(y='y_rate', x='p_mean', kind='line', marker='o', title='Calibration Curve')\n",
    "plt.xlabel('Predicted probability')\n",
    "plt.ylabel('Observed injury rate')\n",
    "plt.show()"
   ]
  }
 ],
 "metadata": {},
 "nbformat": 4,
 "nbformat_minor": 5
}
