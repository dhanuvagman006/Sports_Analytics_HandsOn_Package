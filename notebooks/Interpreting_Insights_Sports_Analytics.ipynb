{
 "cells": [
  {
   "cell_type": "markdown",
   "id": "7734b861",
   "metadata": {},
   "source": [
    "# Interpreting & Communicating Data-Driven Insights\n",
    "This notebook demonstrates how to interpret model outputs and communicate them effectively for strategic decision-making in **sports analytics**.\n",
    "\n",
    "We'll use a **synthetic cricket player performance dataset** and a **ticket pricing dataset** (from our hands-on project pack)."
   ]
  },
  {
   "cell_type": "code",
   "execution_count": null,
   "id": "b0c4f9cd",
   "metadata": {},
   "outputs": [],
   "source": [
    "import pandas as pd\n",
    "# Load sample datasets\n",
    "player_df = pd.read_csv('cricket_t20_player_performance.csv')\n",
    "ticket_df = pd.read_csv('ticket_sales_dynamic_pricing.csv')\n",
    "player_df.head()"
   ]
  },
  {
   "cell_type": "markdown",
   "id": "d7694c85",
   "metadata": {},
   "source": [
    "## Step 1: Build a Simple Predictive Model\n",
    "We'll train a regression model to predict runs scored using player form and context, then interpret the results."
   ]
  },
  {
   "cell_type": "code",
   "execution_count": null,
   "id": "4950b664",
   "metadata": {},
   "outputs": [],
   "source": [
    "from sklearn.model_selection import train_test_split\n",
    "from sklearn.linear_model import LinearRegression\n",
    "from sklearn.preprocessing import OneHotEncoder\n",
    "from sklearn.compose import ColumnTransformer\n",
    "from sklearn.pipeline import Pipeline\n",
    "from sklearn.metrics import mean_absolute_error, r2_score\n",
    "import numpy as np\n",
    "\n",
    "X = player_df.drop(columns=['runs_scored','match_id'])\n",
    "y = player_df['runs_scored']\n",
    "num_cols = X.select_dtypes(include=[np.number]).columns.tolist()\n",
    "cat_cols = X.select_dtypes(exclude=[np.number]).columns.tolist()\n",
    "pre = ColumnTransformer([\n",
    "    ('cat', OneHotEncoder(handle_unknown='ignore'), cat_cols)\n",
    "], remainder='passthrough')\n",
    "\n",
    "X_tr, X_te, y_tr, y_te = train_test_split(X, y, test_size=0.2, random_state=42)\n",
    "\n",
    "model = Pipeline([('pre', pre), ('reg', LinearRegression())])\n",
    "model.fit(X_tr, y_tr)\n",
    "pred = model.predict(X_te)\n",
    "mae = mean_absolute_error(y_te, pred)\n",
    "r2 = r2_score(y_te, pred)\n",
    "print({'MAE':mae, 'R2':r2})"
   ]
  },
  {
   "cell_type": "markdown",
   "id": "7d72874a",
   "metadata": {},
   "source": [
    "### Interpretation:\n",
    "- **MAE** tells us on average how far our predictions are from the true runs scored.\n",
    "- **R²** shows how much variance in runs scored we can explain with our model.\n",
    "- We can use this to inform **selection decisions**: players predicted to score above a certain threshold should stay in the lineup."
   ]
  },
  {
   "cell_type": "markdown",
   "id": "eee255eb",
   "metadata": {},
   "source": [
    "## Step 2: Turn Predictions into Decisions\n",
    "Let's make a small decision table for 5 random players."
   ]
  },
  {
   "cell_type": "code",
   "execution_count": null,
   "id": "089a49e5",
   "metadata": {},
   "outputs": [],
   "source": [
    "sample = X_te.sample(5, random_state=42)\n",
    "sample_pred = model.predict(sample)\n",
    "decision_table = sample.copy()\n",
    "decision_table['predicted_runs'] = np.round(sample_pred, 1)\n",
    "decision_table['recommendation'] = ['Retain' if r>35 else 'Rotate' for r in decision_table['predicted_runs']]\n",
    "decision_table"
   ]
  },
  {
   "cell_type": "markdown",
   "id": "0a1add88",
   "metadata": {},
   "source": [
    "### Communication:\n",
    "Instead of saying *'The model predicted 42.3 runs'*, communicate in **actionable language**:\n",
    "\n",
    "- \"Player is likely to score **40+ runs** next match → retain in starting XI.\"\n",
    "- \"Player is likely to underperform (<30 runs) → consider rotating or giving rest.\""
   ]
  },
  {
   "cell_type": "markdown",
   "id": "b02437d0",
   "metadata": {},
   "source": [
    "## Step 3: Business Insight Example – Ticket Pricing\n",
    "We'll group data by price bands and visualize average tickets sold to find the sweet spot."
   ]
  },
  {
   "cell_type": "code",
   "execution_count": null,
   "id": "060bb759",
   "metadata": {},
   "outputs": [],
   "source": [
    "import matplotlib.pyplot as plt\n",
    "ticket_df['price_band'] = pd.cut(ticket_df['price'], bins=[0,300,400,500,600,1000])\n",
    "band_stats = ticket_df.groupby('price_band')['tickets_sold'].mean()\n",
    "band_stats.plot(kind='bar', title='Avg Tickets Sold by Price Band')\n",
    "plt.ylabel('Average Tickets Sold')\n",
    "plt.show()\n",
    "band_stats"
   ]
  },
  {
   "cell_type": "markdown",
   "id": "80b8c771",
   "metadata": {},
   "source": [
    "### Interpretation & Recommendation:\n",
    "- Identify the price band where **revenue = price × tickets sold** is maximized.\n",
    "- Communicate as:\n",
    "  > \"Our analysis shows setting price around ₹450 yields the highest revenue, even though slightly fewer tickets are sold compared to cheaper bands.\""
   ]
  },
  {
   "cell_type": "markdown",
   "id": "40c4a5b8",
   "metadata": {},
   "source": [
    "## Key Takeaways\n",
    "- **Interpretation:** Convert raw predictions into meaningful business/performance insights.\n",
    "- **Communication:** Use clear language, visuals, and actionable recommendations.\n",
    "- **Decision-Making:** Always link your insight to a specific action for coaches, managers, or stakeholders."
   ]
  }
 ],
 "metadata": {},
 "nbformat": 4,
 "nbformat_minor": 5
}
