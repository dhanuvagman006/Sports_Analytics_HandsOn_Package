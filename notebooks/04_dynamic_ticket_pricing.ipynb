{
 "cells": [
  {
   "cell_type": "markdown",
   "id": "3fe84f6c",
   "metadata": {},
   "source": [
    "# Project 4: Dynamic Ticket Pricing – Regression & What-Ifs\n",
    "Predict **tickets_sold** and explore pricing scenarios to maximize revenue.\n",
    "\n",
    "### Tasks\n",
    "1. Train **GradientBoostingRegressor** (or RandomForest) to predict demand.\n",
    "2. Evaluate with MAE/RMSE; inspect feature importances.\n",
    "3. Build a simple price optimization loop to find price that maximizes `price * predicted_demand` for an upcoming game."
   ]
  },
  {
   "cell_type": "code",
   "execution_count": null,
   "id": "9457a01f",
   "metadata": {},
   "outputs": [],
   "source": [
    "import pandas as pd, numpy as np\n",
    "from sklearn.model_selection import train_test_split\n",
    "from sklearn.ensemble import GradientBoostingRegressor\n",
    "from sklearn.metrics import mean_absolute_error, mean_squared_error, r2_score\n",
    "import matplotlib.pyplot as plt\n",
    "\n",
    "df = pd.read_csv('../datasets/ticket_sales_dynamic_pricing.csv')\n",
    "X = df[['opponent_popularity_1_10','weekday','days_to_game','discount_pct','price']]\n",
    "y = df['tickets_sold']\n",
    "X_tr, X_te, y_tr, y_te = train_test_split(X, y, test_size=0.2, random_state=42)\n",
    "gbr = GradientBoostingRegressor(random_state=42)\n",
    "gbr.fit(X_tr, y_tr)\n",
    "pred = gbr.predict(X_te)\n",
    "print({'MAE': mean_absolute_error(y_te, pred), 'RMSE': mean_squared_error(y_te, pred, squared=False), 'R2': r2_score(y_te, pred)})\n",
    "\n",
    "# Feature importance\n",
    "fi = pd.Series(gbr.feature_importances_, index=X.columns).sort_values(ascending=False)\n",
    "fi.plot(kind='bar', title='Feature Importance')\n",
    "plt.show()\n"
   ]
  },
  {
   "cell_type": "code",
   "execution_count": null,
   "id": "5a226d18",
   "metadata": {},
   "outputs": [],
   "source": [
    "# Simple price optimization for a hypothetical game\n",
    "game = pd.DataFrame({\n",
    "    'opponent_popularity_1_10':[8],\n",
    "    'weekday':[6],  # Sunday\n",
    "    'days_to_game':[14],\n",
    "    'discount_pct':[10],\n",
    "    'price':[400]\n",
    "})\n",
    "prices = np.arange(200, 900, 10)\n",
    "rev = []\n",
    "for p in prices:\n",
    "    g = game.copy(); g['price'] = p\n",
    "    demand = gbr.predict(g)[0]\n",
    "    rev.append(p * max(0, demand))\n",
    "best_idx = int(np.argmax(rev))\n",
    "print({'best_price': float(prices[best_idx]), 'max_revenue': float(rev[best_idx])})\n",
    "import matplotlib.pyplot as plt\n",
    "import pandas as pd\n",
    "pd.DataFrame({'price':prices, 'revenue':rev}).plot(x='price', y='revenue', title='Price vs Revenue')\n",
    "plt.show()\n"
   ]
  }
 ],
 "metadata": {},
 "nbformat": 4,
 "nbformat_minor": 5
}
