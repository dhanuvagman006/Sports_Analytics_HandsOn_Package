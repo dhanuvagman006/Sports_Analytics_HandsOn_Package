{
 "cells": [
  {
   "cell_type": "markdown",
   "id": "52638930",
   "metadata": {},
   "source": [
    "# Applying Statistical & Machine Learning Techniques\n",
    "This notebook demonstrates how to apply **statistical** and **machine learning** methods to both **sports performance** and **business analytics** using synthetic datasets.\n",
    "\n",
    "We'll cover:\n",
    "- Player performance prediction (regression)\n",
    "- Injury risk prediction (classification)\n",
    "- Ticket demand prediction (business optimization)\n",
    "- How to evaluate models and interpret results"
   ]
  },
  {
   "cell_type": "code",
   "execution_count": null,
   "id": "f96494bb",
   "metadata": {},
   "outputs": [],
   "source": [
    "import pandas as pd\n",
    "import numpy as np\n",
    "import matplotlib.pyplot as plt\n",
    "from sklearn.model_selection import train_test_split\n",
    "from sklearn.metrics import mean_absolute_error, r2_score, roc_auc_score, classification_report\n",
    "from sklearn.preprocessing import OneHotEncoder\n",
    "from sklearn.compose import ColumnTransformer\n",
    "from sklearn.pipeline import Pipeline\n",
    "from sklearn.ensemble import RandomForestRegressor, RandomForestClassifier\n",
    "\n",
    "# Load datasets (assume from previous package)\n",
    "player_df = pd.read_csv('cricket_t20_player_performance.csv')\n",
    "injury_df = pd.read_csv('gps_load_injury_risk.csv')\n",
    "ticket_df = pd.read_csv('ticket_sales_dynamic_pricing.csv')\n",
    "player_df.head()"
   ]
  },
  {
   "cell_type": "markdown",
   "id": "641a2d63",
   "metadata": {},
   "source": [
    "## 1. Player Performance Prediction (Regression)\n",
    "Goal: Predict runs scored using player form and context features."
   ]
  },
  {
   "cell_type": "code",
   "execution_count": null,
   "id": "c95ebe69",
   "metadata": {},
   "outputs": [],
   "source": [
    "X = player_df.drop(columns=['runs_scored','match_id'])\n",
    "y = player_df['runs_scored']\n",
    "num_cols = X.select_dtypes(include=np.number).columns.tolist()\n",
    "cat_cols = [c for c in X.columns if c not in num_cols]\n",
    "\n",
    "pre = ColumnTransformer([\n",
    "    ('cat', OneHotEncoder(handle_unknown='ignore'), cat_cols)\n",
    "], remainder='passthrough')\n",
    "\n",
    "X_train, X_test, y_train, y_test = train_test_split(X, y, test_size=0.2, random_state=42)\n",
    "reg = Pipeline([('pre', pre), ('rf', RandomForestRegressor(n_estimators=300, random_state=42))])\n",
    "reg.fit(X_train, y_train)\n",
    "y_pred = reg.predict(X_test)\n",
    "print({'MAE': mean_absolute_error(y_test, y_pred), 'R2': r2_score(y_test, y_pred)})"
   ]
  },
  {
   "cell_type": "markdown",
   "id": "729de246",
   "metadata": {},
   "source": [
    "**Interpretation:**\n",
    "- MAE = average prediction error in runs.\n",
    "- R² = variance explained by model.\n",
    "- Use this output to decide which players to retain or rotate."
   ]
  },
  {
   "cell_type": "markdown",
   "id": "ecb173a3",
   "metadata": {},
   "source": [
    "## 2. Injury Risk Prediction (Classification)\n",
    "Goal: Predict whether a player is at risk of injury in the next 7 days."
   ]
  },
  {
   "cell_type": "code",
   "execution_count": null,
   "id": "c82aa461",
   "metadata": {},
   "outputs": [],
   "source": [
    "X = injury_df.drop(columns=['injury_next_7d'])\n",
    "y = injury_df['injury_next_7d']\n",
    "X_train, X_test, y_train, y_test = train_test_split(X, y, test_size=0.2, stratify=y, random_state=42)\n",
    "\n",
    "clf = RandomForestClassifier(n_estimators=300, class_weight='balanced', random_state=42)\n",
    "clf.fit(X_train, y_train)\n",
    "proba = clf.predict_proba(X_test)[:,1]\n",
    "pred = (proba > 0.35).astype(int)\n",
    "print({'ROC-AUC': roc_auc_score(y_test, proba)})\n",
    "print(classification_report(y_test, pred))"
   ]
  },
  {
   "cell_type": "markdown",
   "id": "34845e17",
   "metadata": {},
   "source": [
    "**Interpretation:**\n",
    "- ROC-AUC shows model's ability to distinguish risky vs safe cases.\n",
    "- Use threshold (e.g., 0.35) to flag high-risk players for load reduction."
   ]
  },
  {
   "cell_type": "markdown",
   "id": "9dd949c5",
   "metadata": {},
   "source": [
    "## 3. Ticket Demand Prediction (Business Analytics)\n",
    "Goal: Predict ticket sales for different price points to maximize revenue."
   ]
  },
  {
   "cell_type": "code",
   "execution_count": null,
   "id": "bc430c55",
   "metadata": {},
   "outputs": [],
   "source": [
    "from sklearn.ensemble import GradientBoostingRegressor\n",
    "\n",
    "X = ticket_df[['opponent_popularity_1_10','weekday','days_to_game','discount_pct','price']]\n",
    "y = ticket_df['tickets_sold']\n",
    "X_train, X_test, y_train, y_test = train_test_split(X, y, test_size=0.2, random_state=42)\n",
    "\n",
    "gbr = GradientBoostingRegressor(random_state=42)\n",
    "gbr.fit(X_train, y_train)\n",
    "y_pred = gbr.predict(X_test)\n",
    "print({'MAE': mean_absolute_error(y_test, y_pred), 'R2': r2_score(y_test, y_pred)})\n",
    "\n",
    "# Price optimization for a hypothetical game\n",
    "game = X_test.sample(1, random_state=42).copy()\n",
    "prices = np.arange(200, 900, 20)\n",
    "revenues = []\n",
    "for p in prices:\n",
    "    g = game.copy()\n",
    "    g['price'] = p\n",
    "    demand = gbr.predict(g)[0]\n",
    "    revenues.append(p * max(demand, 0))\n",
    "\n",
    "plt.plot(prices, revenues)\n",
    "plt.title('Price vs Revenue')\n",
    "plt.xlabel('Ticket Price')\n",
    "plt.ylabel('Expected Revenue')\n",
    "plt.show()\n",
    "print('Optimal Price ~', prices[np.argmax(revenues)])"
   ]
  },
  {
   "cell_type": "markdown",
   "id": "54dcb9e4",
   "metadata": {},
   "source": [
    "**Interpretation:**\n",
    "- Select price where revenue curve peaks.\n",
    "- Communicate recommendation to ticketing team for next game."
   ]
  },
  {
   "cell_type": "markdown",
   "id": "723ede09",
   "metadata": {},
   "source": [
    "## Summary\n",
    "- **Regression** helps predict player performance and demand.\n",
    "- **Classification** helps assess injury risk.\n",
    "- Combine predictions with business context to make decisions (team selection, pricing, marketing).\n",
    "- Always measure performance (MAE, R², ROC-AUC) and interpret results for stakeholders."
   ]
  }
 ],
 "metadata": {},
 "nbformat": 4,
 "nbformat_minor": 5
}
