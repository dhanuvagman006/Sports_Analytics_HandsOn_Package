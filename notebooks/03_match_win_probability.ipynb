{
 "cells": [
  {
   "cell_type": "markdown",
   "id": "b2580cea",
   "metadata": {},
   "source": [
    "# Project 3: Football Win Probability – Classification & Live Updating\n",
    "Build a model to predict **home_win** using pre/post-match features.\n",
    "\n",
    "### Tasks\n",
    "1. EDA + feature selection.\n",
    "2. Train **LogisticRegression**; compute ROC-AUC.\n",
    "3. Calibrate probabilities (Platt scaling).\n",
    "4. LIVE update demo: adjust win prob as xG_diff changes within a match."
   ]
  },
  {
   "cell_type": "code",
   "execution_count": null,
   "id": "faf7d2dc",
   "metadata": {},
   "outputs": [],
   "source": [
    "import pandas as pd, numpy as np\n",
    "from sklearn.model_selection import train_test_split\n",
    "from sklearn.preprocessing import StandardScaler\n",
    "from sklearn.pipeline import Pipeline\n",
    "from sklearn.linear_model import LogisticRegression\n",
    "from sklearn.metrics import roc_auc_score\n",
    "from sklearn.calibration import CalibratedClassifierCV\n",
    "import matplotlib.pyplot as plt\n",
    "\n",
    "df = pd.read_csv('../datasets/football_match_stats.csv')\n",
    "X = df[['shots_home','shots_away','xg_home','xg_away','ppda_home','ppda_away','yellow_home','yellow_away','fouls_home','fouls_away']]\n",
    "y = df['home_win']\n",
    "X_tr, X_te, y_tr, y_te = train_test_split(X, y, test_size=0.2, random_state=42, stratify=y)\n",
    "pipe = Pipeline([('sc', StandardScaler()), ('logit', LogisticRegression(max_iter=500))])\n",
    "clf = CalibratedClassifierCV(pipe, cv=3)\n",
    "clf.fit(X_tr, y_tr)\n",
    "proba = clf.predict_proba(X_te)[:,1]\n",
    "print({'ROC_AUC': roc_auc_score(y_te, proba)})"
   ]
  },
  {
   "cell_type": "code",
   "execution_count": null,
   "id": "76285975",
   "metadata": {},
   "outputs": [],
   "source": [
    "# Live update demo\n",
    "import numpy as np\n",
    "base = df[['xg_home','xg_away','shots_home','shots_away','ppda_home','ppda_away','yellow_home','yellow_away','fouls_home','fouls_away']].mean()\n",
    "timeline = []\n",
    "for minute in range(0, 91, 5):\n",
    "    xg_diff = (minute/90.0)*1.2 - 0.2  # synthetic trajectory\n",
    "    row = base.copy()\n",
    "    row['xg_home'] = 1.0 + max(0, xg_diff)\n",
    "    row['xg_away'] = 1.0 + max(0, -xg_diff)\n",
    "    proba = clf.predict_proba([row.values])[0,1]\n",
    "    timeline.append((minute, proba))\n",
    "timeline = pd.DataFrame(timeline, columns=['minute','home_win_prob'])\n",
    "timeline.plot(x='minute', y='home_win_prob', title='Live Win Probability (Demo)')\n",
    "plt.ylim(0,1)\n",
    "plt.show()\n"
   ]
  }
 ],
 "metadata": {},
 "nbformat": 4,
 "nbformat_minor": 5
}
